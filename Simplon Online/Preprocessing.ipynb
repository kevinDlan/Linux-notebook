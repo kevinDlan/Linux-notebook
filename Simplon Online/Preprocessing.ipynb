{
 "cells": [
  {
   "cell_type": "markdown",
   "id": "307c771d",
   "metadata": {},
   "source": [
    "## Preprocessing du Dataset Heart et Modelisation"
   ]
  },
  {
   "cell_type": "code",
   "execution_count": 36,
   "id": "4338a576",
   "metadata": {},
   "outputs": [],
   "source": [
    "import pandas as pd\n",
    "from sklearn.preprocessing import StandardScaler,RobustScaler\n",
    "from sklearn.model_selection import train_test_split,learning_curve\n",
    "from sklearn.linear_model import LogisticRegression\n",
    "from sklearn.neighbors import KNeighborsClassifier\n",
    "from sklearn.metrics import classification_report,confusion_matrix\n",
    "from sklearn.metrics import accuracy_score,classification_report\n",
    "from sklearn.svm import LinearSVC\n",
    "import matplotlib.pyplot  as plt\n",
    "import seaborn as sns\n",
    "import numpy as np\n",
    "import warnings\n",
    "warnings.filterwarnings('ignore')\n",
    "sns.set()"
   ]
  },
  {
   "cell_type": "code",
   "execution_count": 2,
   "id": "9f62ac36",
   "metadata": {},
   "outputs": [],
   "source": [
    "#Chargement du Dataset\n",
    "df = pd.read_excel('../dataset/Heart.xlsx')"
   ]
  },
  {
   "cell_type": "code",
   "execution_count": 3,
   "id": "8d8c9c39",
   "metadata": {
    "scrolled": true
   },
   "outputs": [
    {
     "data": {
      "text/html": [
       "<div>\n",
       "<style scoped>\n",
       "    .dataframe tbody tr th:only-of-type {\n",
       "        vertical-align: middle;\n",
       "    }\n",
       "\n",
       "    .dataframe tbody tr th {\n",
       "        vertical-align: top;\n",
       "    }\n",
       "\n",
       "    .dataframe thead th {\n",
       "        text-align: right;\n",
       "    }\n",
       "</style>\n",
       "<table border=\"1\" class=\"dataframe\">\n",
       "  <thead>\n",
       "    <tr style=\"text-align: right;\">\n",
       "      <th></th>\n",
       "      <th>AGE</th>\n",
       "      <th>SEXE</th>\n",
       "      <th>TDT</th>\n",
       "      <th>PAR</th>\n",
       "      <th>CHOLESTEROL</th>\n",
       "      <th>GAJ</th>\n",
       "      <th>ECG</th>\n",
       "      <th>FCMAX</th>\n",
       "      <th>ANGINE</th>\n",
       "      <th>DEPRESSION</th>\n",
       "      <th>PENTE</th>\n",
       "      <th>CŒUR</th>\n",
       "    </tr>\n",
       "  </thead>\n",
       "  <tbody>\n",
       "    <tr>\n",
       "      <th>0</th>\n",
       "      <td>40</td>\n",
       "      <td>homme</td>\n",
       "      <td>AA</td>\n",
       "      <td>140</td>\n",
       "      <td>289</td>\n",
       "      <td>0</td>\n",
       "      <td>Normal</td>\n",
       "      <td>172</td>\n",
       "      <td>Non</td>\n",
       "      <td>0.0</td>\n",
       "      <td>Ascendant</td>\n",
       "      <td>0</td>\n",
       "    </tr>\n",
       "    <tr>\n",
       "      <th>1</th>\n",
       "      <td>49</td>\n",
       "      <td>femme</td>\n",
       "      <td>DNA</td>\n",
       "      <td>160</td>\n",
       "      <td>180</td>\n",
       "      <td>0</td>\n",
       "      <td>Normal</td>\n",
       "      <td>156</td>\n",
       "      <td>Non</td>\n",
       "      <td>1.0</td>\n",
       "      <td>Plat</td>\n",
       "      <td>1</td>\n",
       "    </tr>\n",
       "    <tr>\n",
       "      <th>2</th>\n",
       "      <td>37</td>\n",
       "      <td>homme</td>\n",
       "      <td>AA</td>\n",
       "      <td>130</td>\n",
       "      <td>283</td>\n",
       "      <td>0</td>\n",
       "      <td>ST</td>\n",
       "      <td>98</td>\n",
       "      <td>Non</td>\n",
       "      <td>0.0</td>\n",
       "      <td>Ascendant</td>\n",
       "      <td>0</td>\n",
       "    </tr>\n",
       "    <tr>\n",
       "      <th>3</th>\n",
       "      <td>48</td>\n",
       "      <td>femme</td>\n",
       "      <td>ASY</td>\n",
       "      <td>138</td>\n",
       "      <td>214</td>\n",
       "      <td>0</td>\n",
       "      <td>Normal</td>\n",
       "      <td>108</td>\n",
       "      <td>Oui</td>\n",
       "      <td>1.5</td>\n",
       "      <td>Plat</td>\n",
       "      <td>1</td>\n",
       "    </tr>\n",
       "    <tr>\n",
       "      <th>4</th>\n",
       "      <td>54</td>\n",
       "      <td>homme</td>\n",
       "      <td>DNA</td>\n",
       "      <td>150</td>\n",
       "      <td>195</td>\n",
       "      <td>0</td>\n",
       "      <td>Normal</td>\n",
       "      <td>122</td>\n",
       "      <td>Non</td>\n",
       "      <td>0.0</td>\n",
       "      <td>Ascendant</td>\n",
       "      <td>0</td>\n",
       "    </tr>\n",
       "  </tbody>\n",
       "</table>\n",
       "</div>"
      ],
      "text/plain": [
       "   AGE   SEXE  TDT  PAR  CHOLESTEROL  GAJ     ECG  FCMAX ANGINE  DEPRESSION   \\\n",
       "0   40  homme   AA  140          289    0  Normal    172    Non          0.0   \n",
       "1   49  femme  DNA  160          180    0  Normal    156    Non          1.0   \n",
       "2   37  homme   AA  130          283    0      ST     98    Non          0.0   \n",
       "3   48  femme  ASY  138          214    0  Normal    108    Oui          1.5   \n",
       "4   54  homme  DNA  150          195    0  Normal    122    Non          0.0   \n",
       "\n",
       "       PENTE  CŒUR  \n",
       "0  Ascendant     0  \n",
       "1       Plat     1  \n",
       "2  Ascendant     0  \n",
       "3       Plat     1  \n",
       "4  Ascendant     0  "
      ]
     },
     "execution_count": 3,
     "metadata": {},
     "output_type": "execute_result"
    }
   ],
   "source": [
    "df.head()"
   ]
  },
  {
   "cell_type": "code",
   "execution_count": 4,
   "id": "9dbc0479",
   "metadata": {},
   "outputs": [
    {
     "data": {
      "text/plain": [
       "Plat          460\n",
       "Ascendant     395\n",
       "Descendant     63\n",
       "Name: PENTE, dtype: int64"
      ]
     },
     "execution_count": 4,
     "metadata": {},
     "output_type": "execute_result"
    }
   ],
   "source": [
    "df[\"PENTE\"].value_counts()"
   ]
  },
  {
   "cell_type": "markdown",
   "id": "894d0a9a",
   "metadata": {},
   "source": [
    "### Encodage des variables Qualitatives"
   ]
  },
  {
   "cell_type": "code",
   "execution_count": 5,
   "id": "c3caa29a",
   "metadata": {},
   "outputs": [],
   "source": [
    "#Encodage\n",
    "df['SEXE'] = df['SEXE'].map({\"homme\":1,\"femme\":0})\n",
    "df['TDT'] = df['TDT'].map({'ASY':0,'DNA':1,'AA':2,'AT':3})\n",
    "df['ECG'] = df['ECG'].map({'Normal':0,'LVH':1,'ST':2})\n",
    "df['ANGINE'] = df['ANGINE'].map({'Oui':0,'Non':1})\n",
    "df['PENTE'] = df['PENTE'].map({'Plat':0,'Ascendant':1,'Descendant':2})\n",
    "df.rename({'DEPRESSION ':'DEPRESSION'},inplace=True)"
   ]
  },
  {
   "cell_type": "code",
   "execution_count": 6,
   "id": "3ddb1243",
   "metadata": {
    "scrolled": true
   },
   "outputs": [
    {
     "data": {
      "text/html": [
       "<div>\n",
       "<style scoped>\n",
       "    .dataframe tbody tr th:only-of-type {\n",
       "        vertical-align: middle;\n",
       "    }\n",
       "\n",
       "    .dataframe tbody tr th {\n",
       "        vertical-align: top;\n",
       "    }\n",
       "\n",
       "    .dataframe thead th {\n",
       "        text-align: right;\n",
       "    }\n",
       "</style>\n",
       "<table border=\"1\" class=\"dataframe\">\n",
       "  <thead>\n",
       "    <tr style=\"text-align: right;\">\n",
       "      <th></th>\n",
       "      <th>AGE</th>\n",
       "      <th>SEXE</th>\n",
       "      <th>TDT</th>\n",
       "      <th>PAR</th>\n",
       "      <th>CHOLESTEROL</th>\n",
       "      <th>GAJ</th>\n",
       "      <th>ECG</th>\n",
       "      <th>FCMAX</th>\n",
       "      <th>ANGINE</th>\n",
       "      <th>DEPRESSION</th>\n",
       "      <th>PENTE</th>\n",
       "      <th>CŒUR</th>\n",
       "    </tr>\n",
       "  </thead>\n",
       "  <tbody>\n",
       "    <tr>\n",
       "      <th>0</th>\n",
       "      <td>40</td>\n",
       "      <td>1</td>\n",
       "      <td>2</td>\n",
       "      <td>140</td>\n",
       "      <td>289</td>\n",
       "      <td>0</td>\n",
       "      <td>0</td>\n",
       "      <td>172</td>\n",
       "      <td>1</td>\n",
       "      <td>0.0</td>\n",
       "      <td>1</td>\n",
       "      <td>0</td>\n",
       "    </tr>\n",
       "    <tr>\n",
       "      <th>1</th>\n",
       "      <td>49</td>\n",
       "      <td>0</td>\n",
       "      <td>1</td>\n",
       "      <td>160</td>\n",
       "      <td>180</td>\n",
       "      <td>0</td>\n",
       "      <td>0</td>\n",
       "      <td>156</td>\n",
       "      <td>1</td>\n",
       "      <td>1.0</td>\n",
       "      <td>0</td>\n",
       "      <td>1</td>\n",
       "    </tr>\n",
       "    <tr>\n",
       "      <th>2</th>\n",
       "      <td>37</td>\n",
       "      <td>1</td>\n",
       "      <td>2</td>\n",
       "      <td>130</td>\n",
       "      <td>283</td>\n",
       "      <td>0</td>\n",
       "      <td>2</td>\n",
       "      <td>98</td>\n",
       "      <td>1</td>\n",
       "      <td>0.0</td>\n",
       "      <td>1</td>\n",
       "      <td>0</td>\n",
       "    </tr>\n",
       "    <tr>\n",
       "      <th>3</th>\n",
       "      <td>48</td>\n",
       "      <td>0</td>\n",
       "      <td>0</td>\n",
       "      <td>138</td>\n",
       "      <td>214</td>\n",
       "      <td>0</td>\n",
       "      <td>0</td>\n",
       "      <td>108</td>\n",
       "      <td>0</td>\n",
       "      <td>1.5</td>\n",
       "      <td>0</td>\n",
       "      <td>1</td>\n",
       "    </tr>\n",
       "    <tr>\n",
       "      <th>4</th>\n",
       "      <td>54</td>\n",
       "      <td>1</td>\n",
       "      <td>1</td>\n",
       "      <td>150</td>\n",
       "      <td>195</td>\n",
       "      <td>0</td>\n",
       "      <td>0</td>\n",
       "      <td>122</td>\n",
       "      <td>1</td>\n",
       "      <td>0.0</td>\n",
       "      <td>1</td>\n",
       "      <td>0</td>\n",
       "    </tr>\n",
       "  </tbody>\n",
       "</table>\n",
       "</div>"
      ],
      "text/plain": [
       "   AGE  SEXE  TDT  PAR  CHOLESTEROL  GAJ  ECG  FCMAX  ANGINE  DEPRESSION   \\\n",
       "0   40     1    2  140          289    0    0    172       1          0.0   \n",
       "1   49     0    1  160          180    0    0    156       1          1.0   \n",
       "2   37     1    2  130          283    0    2     98       1          0.0   \n",
       "3   48     0    0  138          214    0    0    108       0          1.5   \n",
       "4   54     1    1  150          195    0    0    122       1          0.0   \n",
       "\n",
       "   PENTE  CŒUR  \n",
       "0      1     0  \n",
       "1      0     1  \n",
       "2      1     0  \n",
       "3      0     1  \n",
       "4      1     0  "
      ]
     },
     "execution_count": 6,
     "metadata": {},
     "output_type": "execute_result"
    }
   ],
   "source": [
    "#Visualisation des données\n",
    "df.head()"
   ]
  },
  {
   "cell_type": "code",
   "execution_count": 7,
   "id": "72c577eb",
   "metadata": {},
   "outputs": [],
   "source": [
    "df1 = df.copy()"
   ]
  },
  {
   "cell_type": "markdown",
   "id": "ea95f373",
   "metadata": {},
   "source": [
    "### Construction de modèle sans prétraitement des Variables"
   ]
  },
  {
   "cell_type": "code",
   "execution_count": 8,
   "id": "92c7869a",
   "metadata": {},
   "outputs": [],
   "source": [
    "#Séparation de la target et des features\n",
    "y1 = df['CŒUR']\n",
    "dat = df.drop('CŒUR',axis=1)"
   ]
  },
  {
   "cell_type": "code",
   "execution_count": 9,
   "id": "59559fdf",
   "metadata": {},
   "outputs": [],
   "source": [
    "#Division du dataset\n",
    "x1_train,x1_test,y1_train,y1_test = train_test_split(dat,y1,test_size=0.2,random_state=10)"
   ]
  },
  {
   "cell_type": "markdown",
   "id": "e72ae64b",
   "metadata": {},
   "source": [
    "### Modelisation"
   ]
  },
  {
   "cell_type": "markdown",
   "id": "20ef49e7",
   "metadata": {},
   "source": [
    "- Modele de regression Logistique"
   ]
  },
  {
   "cell_type": "code",
   "execution_count": 10,
   "id": "6a22726c",
   "metadata": {},
   "outputs": [
    {
     "data": {
      "text/plain": [
       "LogisticRegression(random_state=10)"
      ]
     },
     "execution_count": 10,
     "metadata": {},
     "output_type": "execute_result"
    }
   ],
   "source": [
    "# Instanciation et Entrainement du modele\n",
    "lr = LogisticRegression(random_state=10)\n",
    "lr.fit(x1_train,y1_train)"
   ]
  },
  {
   "cell_type": "code",
   "execution_count": 11,
   "id": "931fba0f",
   "metadata": {},
   "outputs": [
    {
     "data": {
      "text/plain": [
       "0.8664850136239782"
      ]
     },
     "execution_count": 11,
     "metadata": {},
     "output_type": "execute_result"
    }
   ],
   "source": [
    "#Performance du modele sur les données d'entrainement\n",
    "trainScore = lr.score(x1_train,y1_train)\n",
    "trainScore"
   ]
  },
  {
   "cell_type": "code",
   "execution_count": 12,
   "id": "b1ff4806",
   "metadata": {},
   "outputs": [
    {
     "data": {
      "text/plain": [
       "0.8315217391304348"
      ]
     },
     "execution_count": 12,
     "metadata": {},
     "output_type": "execute_result"
    }
   ],
   "source": [
    "#Performance du modele sur les données de test\n",
    "testScore = lr.score(x1_test,y1_test)\n",
    "testScore"
   ]
  },
  {
   "cell_type": "markdown",
   "id": "93ae6494",
   "metadata": {},
   "source": [
    "* En Appliquant l'algorithme de Regression Lineaire sur les données non Traité, on obtient un de : \n",
    "    - 0.87 sur les données d'entrainement et \n",
    "    - 0.83 sur les données de test.\n",
    "* Traitons donc les features en faisant **la normalisation,le traitement des valeurs aberrante** pour l'amelioration des performance du modele."
   ]
  },
  {
   "cell_type": "markdown",
   "id": "651838ee",
   "metadata": {},
   "source": [
    "### Normalisation des Variables quantitatives avec StandartSCaler"
   ]
  },
  {
   "cell_type": "code",
   "execution_count": 13,
   "id": "0e526c45",
   "metadata": {},
   "outputs": [],
   "source": [
    "quant_cols = ['AGE','PAR','CHOLESTEROL','FCMAX','DEPRESSION ']"
   ]
  },
  {
   "cell_type": "code",
   "execution_count": 14,
   "id": "d810d561",
   "metadata": {},
   "outputs": [],
   "source": [
    "normalizer = StandardScaler()\n",
    "df[quant_cols] = normalizer.fit_transform(df[quant_cols].values)"
   ]
  },
  {
   "cell_type": "code",
   "execution_count": 15,
   "id": "125674f2",
   "metadata": {},
   "outputs": [],
   "source": [
    "y = df['CŒUR']\n",
    "data = df.drop('CŒUR',axis=1)"
   ]
  },
  {
   "cell_type": "code",
   "execution_count": 16,
   "id": "ec4f2ff1",
   "metadata": {},
   "outputs": [],
   "source": [
    "x_train,x_test,y_train,y_test = train_test_split(data,y,test_size=0.2,random_state=10)"
   ]
  },
  {
   "cell_type": "markdown",
   "id": "6d3c018c",
   "metadata": {},
   "source": [
    "### Normalisation des variable avec RobustScaler"
   ]
  },
  {
   "cell_type": "code",
   "execution_count": 17,
   "id": "6997a7bd",
   "metadata": {},
   "outputs": [],
   "source": [
    "robust = RobustScaler()\n",
    "df1[quant_cols] = robust.fit_transform(X=df1[quant_cols].values)\n",
    "yr = df1['CŒUR']\n",
    "datar = df1.drop('CŒUR',axis=1)\n",
    "xr_train,xr_test,yr_train,yr_test = train_test_split(datar,yr,test_size=0.2,random_state=10)"
   ]
  },
  {
   "cell_type": "markdown",
   "id": "a8ea0fa6",
   "metadata": {},
   "source": [
    "### Modelisation"
   ]
  },
  {
   "cell_type": "markdown",
   "id": "99c66517",
   "metadata": {},
   "source": [
    "- Modele de Regression Logistique"
   ]
  },
  {
   "cell_type": "code",
   "execution_count": 18,
   "id": "fecbbfea",
   "metadata": {},
   "outputs": [],
   "source": [
    "#Instanciation du modele\n",
    "ml = LogisticRegression(random_state=10)"
   ]
  },
  {
   "cell_type": "code",
   "execution_count": 19,
   "id": "36338350",
   "metadata": {},
   "outputs": [
    {
     "data": {
      "text/plain": [
       "LogisticRegression(random_state=10)"
      ]
     },
     "execution_count": 19,
     "metadata": {},
     "output_type": "execute_result"
    }
   ],
   "source": [
    "#Entrainement du modele\n",
    "ml.fit(x_train,y_train)"
   ]
  },
  {
   "cell_type": "code",
   "execution_count": 20,
   "id": "8e75ed1c",
   "metadata": {},
   "outputs": [
    {
     "data": {
      "text/plain": [
       "0.8678474114441417"
      ]
     },
     "execution_count": 20,
     "metadata": {},
     "output_type": "execute_result"
    }
   ],
   "source": [
    "#Performance du modele sur le jeu de donné d'entrainement\n",
    "train_score = ml.score(x_train,y_train)\n",
    "train_score"
   ]
  },
  {
   "cell_type": "code",
   "execution_count": 21,
   "id": "8e302cb7",
   "metadata": {
    "scrolled": true
   },
   "outputs": [
    {
     "data": {
      "text/plain": [
       "0.842391304347826"
      ]
     },
     "execution_count": 21,
     "metadata": {},
     "output_type": "execute_result"
    }
   ],
   "source": [
    "#Performance du modele sur le jeu de donnée de test\n",
    "test_score = ml.score(x_test,y_test)\n",
    "test_score"
   ]
  },
  {
   "cell_type": "code",
   "execution_count": 21,
   "id": "46267fb7",
   "metadata": {},
   "outputs": [],
   "source": [
    "#Prediction du model\n",
    "y_pred = ml.predict(x_test)"
   ]
  },
  {
   "cell_type": "code",
   "execution_count": 22,
   "id": "32807e23",
   "metadata": {},
   "outputs": [
    {
     "name": "stdout",
     "output_type": "stream",
     "text": [
      "              precision    recall  f1-score   support\n",
      "\n",
      "           0       0.84      0.81      0.83        86\n",
      "           1       0.84      0.87      0.85        98\n",
      "\n",
      "    accuracy                           0.84       184\n",
      "   macro avg       0.84      0.84      0.84       184\n",
      "weighted avg       0.84      0.84      0.84       184\n",
      "\n"
     ]
    }
   ],
   "source": [
    "#Visualisation du rapport de Classification\n",
    "print(classification_report(y_test, y_pred))"
   ]
  },
  {
   "cell_type": "code",
   "execution_count": 23,
   "id": "8ea5c953",
   "metadata": {
    "scrolled": false
   },
   "outputs": [
    {
     "data": {
      "text/html": [
       "<div>\n",
       "<style scoped>\n",
       "    .dataframe tbody tr th:only-of-type {\n",
       "        vertical-align: middle;\n",
       "    }\n",
       "\n",
       "    .dataframe tbody tr th {\n",
       "        vertical-align: top;\n",
       "    }\n",
       "\n",
       "    .dataframe thead th {\n",
       "        text-align: right;\n",
       "    }\n",
       "</style>\n",
       "<table border=\"1\" class=\"dataframe\">\n",
       "  <thead>\n",
       "    <tr style=\"text-align: right;\">\n",
       "      <th></th>\n",
       "      <th>Absence</th>\n",
       "      <th>Présence</th>\n",
       "    </tr>\n",
       "  </thead>\n",
       "  <tbody>\n",
       "    <tr>\n",
       "      <th>Absence</th>\n",
       "      <td>70</td>\n",
       "      <td>16</td>\n",
       "    </tr>\n",
       "    <tr>\n",
       "      <th>Présence</th>\n",
       "      <td>13</td>\n",
       "      <td>85</td>\n",
       "    </tr>\n",
       "  </tbody>\n",
       "</table>\n",
       "</div>"
      ],
      "text/plain": [
       "          Absence  Présence\n",
       "Absence        70        16\n",
       "Présence       13        85"
      ]
     },
     "execution_count": 23,
     "metadata": {},
     "output_type": "execute_result"
    }
   ],
   "source": [
    "#Matrice de confusion\n",
    "conf_matrix = pd.DataFrame(confusion_matrix(y_test,y_pred))\n",
    "conf_matrix.columns = ['Absence','Présence']\n",
    "conf_matrix.index = ['Absence','Présence']\n",
    "conf_matrix"
   ]
  },
  {
   "cell_type": "markdown",
   "id": "275ef018",
   "metadata": {},
   "source": [
    "- A travers la matrice de confusion nous voyons que : \n",
    "     * Le modele a predire 155 fois vrai et 29 faux.\n",
    "     * Au niveau des fausses prédiction nous devons minimiser les cas ou il y a présence de maladie et le modele predire qu'il n'y a pas de maladie.Le modele a cette erreur 16 fois."
   ]
  },
  {
   "cell_type": "code",
   "execution_count": 24,
   "id": "b6a4ffe5",
   "metadata": {
    "scrolled": true
   },
   "outputs": [
    {
     "data": {
      "image/png": "[encoded data removed]",
      "text/plain": [
       "<Figure size 864x576 with 1 Axes>"
      ]
     },
     "metadata": {},
     "output_type": "display_data"
    }
   ],
   "source": [
    "var, train_score, val_score = learning_curve(ml,x_train, y_train, train_sizes=np.linspace(0.1,1.0,10), cv=5)\n",
    "plt.figure(figsize=(12,8))\n",
    "plt.title('Learning Curve')\n",
    "plt.plot(var, train_score.mean(axis = 1), label = 'Train')\n",
    "plt.plot(var, val_score.mean(axis = 1), label = 'Validation')\n",
    "plt.xlabel('Train_size')\n",
    "plt.legend()\n",
    "plt.show()"
   ]
  },
  {
   "cell_type": "markdown",
   "id": "8bf84a66",
   "metadata": {},
   "source": [
    "* Support Vecteur Machine Regressor"
   ]
  },
  {
   "cell_type": "code",
   "execution_count": 37,
   "id": "5bb32174",
   "metadata": {},
   "outputs": [],
   "source": [
    "svc = LinearSVC(random_state=10) "
   ]
  },
  {
   "cell_type": "code",
   "execution_count": 39,
   "id": "6d766e46",
   "metadata": {},
   "outputs": [
    {
     "data": {
      "text/plain": [
       "LinearSVC(random_state=10)"
      ]
     },
     "execution_count": 39,
     "metadata": {},
     "output_type": "execute_result"
    }
   ],
   "source": [
    "svc.fit(x_train,y_train)"
   ]
  },
  {
   "cell_type": "code",
   "execution_count": 41,
   "id": "d67bf0cb",
   "metadata": {},
   "outputs": [
    {
     "data": {
      "text/plain": [
       "0.8651226158038147"
      ]
     },
     "execution_count": 41,
     "metadata": {},
     "output_type": "execute_result"
    }
   ],
   "source": [
    "train_score_svc = svc.score(x_train,y_train)\n",
    "train_score_svc"
   ]
  },
  {
   "cell_type": "code",
   "execution_count": 42,
   "id": "b4a960eb",
   "metadata": {},
   "outputs": [
    {
     "data": {
      "text/plain": [
       "0.8478260869565217"
      ]
     },
     "execution_count": 42,
     "metadata": {},
     "output_type": "execute_result"
    }
   ],
   "source": [
    "test_score_svc = svc.score(x_test,y_test)\n",
    "test_score_svc"
   ]
  },
  {
   "cell_type": "code",
   "execution_count": 44,
   "id": "5014e21c",
   "metadata": {},
   "outputs": [],
   "source": [
    "svc_ypred = svc.predict(x_test)"
   ]
  },
  {
   "cell_type": "code",
   "execution_count": 45,
   "id": "c159b689",
   "metadata": {},
   "outputs": [
    {
     "name": "stdout",
     "output_type": "stream",
     "text": [
      "              precision    recall  f1-score   support\n",
      "\n",
      "           0       0.85      0.83      0.84        86\n",
      "           1       0.85      0.87      0.86        98\n",
      "\n",
      "    accuracy                           0.85       184\n",
      "   macro avg       0.85      0.85      0.85       184\n",
      "weighted avg       0.85      0.85      0.85       184\n",
      "\n"
     ]
    }
   ],
   "source": [
    "print(classification_report(y_test,svc_ypred))"
   ]
  },
  {
   "cell_type": "code",
   "execution_count": 46,
   "id": "e62f9e26",
   "metadata": {},
   "outputs": [
    {
     "data": {
      "text/html": [
       "<div>\n",
       "<style scoped>\n",
       "    .dataframe tbody tr th:only-of-type {\n",
       "        vertical-align: middle;\n",
       "    }\n",
       "\n",
       "    .dataframe tbody tr th {\n",
       "        vertical-align: top;\n",
       "    }\n",
       "\n",
       "    .dataframe thead th {\n",
       "        text-align: right;\n",
       "    }\n",
       "</style>\n",
       "<table border=\"1\" class=\"dataframe\">\n",
       "  <thead>\n",
       "    <tr style=\"text-align: right;\">\n",
       "      <th></th>\n",
       "      <th>Absence</th>\n",
       "      <th>Présence</th>\n",
       "    </tr>\n",
       "  </thead>\n",
       "  <tbody>\n",
       "    <tr>\n",
       "      <th>Absence</th>\n",
       "      <td>71</td>\n",
       "      <td>15</td>\n",
       "    </tr>\n",
       "    <tr>\n",
       "      <th>Présence</th>\n",
       "      <td>13</td>\n",
       "      <td>85</td>\n",
       "    </tr>\n",
       "  </tbody>\n",
       "</table>\n",
       "</div>"
      ],
      "text/plain": [
       "          Absence  Présence\n",
       "Absence        71        15\n",
       "Présence       13        85"
      ]
     },
     "execution_count": 46,
     "metadata": {},
     "output_type": "execute_result"
    }
   ],
   "source": [
    "#Matrice de confusion\n",
    "conf_matrix = pd.DataFrame(confusion_matrix(y_test,svc_ypred))\n",
    "conf_matrix.columns = ['Absence','Présence']\n",
    "conf_matrix.index = ['Absence','Présence']\n",
    "conf_matrix"
   ]
  },
  {
   "cell_type": "code",
   "execution_count": 47,
   "id": "773e1e8b",
   "metadata": {},
   "outputs": [
    {
     "data": {
      "image/png": "[encoded data removed]",
      "text/plain": [
       "<Figure size 864x576 with 1 Axes>"
      ]
     },
     "metadata": {},
     "output_type": "display_data"
    }
   ],
   "source": [
    "var, train_score, val_score = learning_curve(svc,x_train, y_train, train_sizes=np.linspace(0.1,1.0,10), cv=5)\n",
    "plt.figure(figsize=(12,8))\n",
    "plt.title('Learning Curve')\n",
    "plt.plot(var, train_score.mean(axis = 1), label = 'Train')\n",
    "plt.plot(var, val_score.mean(axis = 1), label = 'Validation')\n",
    "plt.xlabel('Train_size')\n",
    "plt.legend()\n",
    "plt.show()"
   ]
  },
  {
   "cell_type": "code",
   "execution_count": null,
   "id": "f026f480",
   "metadata": {},
   "outputs": [],
   "source": []
  },
  {
   "cell_type": "code",
   "execution_count": null,
   "id": "78898eed",
   "metadata": {},
   "outputs": [],
   "source": []
  }
 ],
 "metadata": {
  "kernelspec": {
   "display_name": "Python 3 (ipykernel)",
   "language": "python",
   "name": "python3"
  },
  "language_info": {
   "codemirror_mode": {
    "name": "ipython",
    "version": 3
   },
   "file_extension": ".py",
   "mimetype": "text/x-python",
   "name": "python",
   "nbconvert_exporter": "python",
   "pygments_lexer": "ipython3",
   "version": "3.8.10"
  }
 },
 "nbformat": 4,
 "nbformat_minor": 5
}
