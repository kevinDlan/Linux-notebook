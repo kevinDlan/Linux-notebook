{
 "cells": [
  {
   "cell_type": "markdown",
   "id": "307c771d",
   "metadata": {},
   "source": [
    "## Preprocessing du Dataset Heart et Modelisation"
   ]
  },
  {
   "cell_type": "code",
   "execution_count": 94,
   "id": "4338a576",
   "metadata": {},
   "outputs": [],
   "source": [
    "import pandas as pd\n",
    "from sklearn.preprocessing import StandardScaler\n",
    "from sklearn.model_selection import train_test_split,learning_curve\n",
    "from sklearn.linear_model import LogisticRegression\n",
    "from sklearn.neighbors import KNeighborsClassifier\n",
    "from sklearn.metrics import classification_report,confusion_matrix\n",
    "from sklearn.metrics import accuracy_score,classification_report\n",
    "import matplotlib.pyplot  as plt\n",
    "import seaborn as sns\n",
    "import numpy as np\n",
    "sns.set()"
   ]
  },
  {
   "cell_type": "code",
   "execution_count": 47,
   "id": "9f62ac36",
   "metadata": {},
   "outputs": [],
   "source": [
    "#Chargement du Dataset\n",
    "df = pd.read_excel('../dataset/Heart.xlsx')"
   ]
  },
  {
   "cell_type": "code",
   "execution_count": 48,
   "id": "8d8c9c39",
   "metadata": {
    "scrolled": true
   },
   "outputs": [
    {
     "data": {
      "text/html": [
       "<div>\n",
       "<style scoped>\n",
       "    .dataframe tbody tr th:only-of-type {\n",
       "        vertical-align: middle;\n",
       "    }\n",
       "\n",
       "    .dataframe tbody tr th {\n",
       "        vertical-align: top;\n",
       "    }\n",
       "\n",
       "    .dataframe thead th {\n",
       "        text-align: right;\n",
       "    }\n",
       "</style>\n",
       "<table border=\"1\" class=\"dataframe\">\n",
       "  <thead>\n",
       "    <tr style=\"text-align: right;\">\n",
       "      <th></th>\n",
       "      <th>AGE</th>\n",
       "      <th>SEXE</th>\n",
       "      <th>TDT</th>\n",
       "      <th>PAR</th>\n",
       "      <th>CHOLESTEROL</th>\n",
       "      <th>GAJ</th>\n",
       "      <th>ECG</th>\n",
       "      <th>FCMAX</th>\n",
       "      <th>ANGINE</th>\n",
       "      <th>DEPRESSION</th>\n",
       "      <th>PENTE</th>\n",
       "      <th>CŒUR</th>\n",
       "    </tr>\n",
       "  </thead>\n",
       "  <tbody>\n",
       "    <tr>\n",
       "      <th>0</th>\n",
       "      <td>40</td>\n",
       "      <td>homme</td>\n",
       "      <td>AA</td>\n",
       "      <td>140</td>\n",
       "      <td>289</td>\n",
       "      <td>0</td>\n",
       "      <td>Normal</td>\n",
       "      <td>172</td>\n",
       "      <td>Non</td>\n",
       "      <td>0.0</td>\n",
       "      <td>Ascendant</td>\n",
       "      <td>0</td>\n",
       "    </tr>\n",
       "    <tr>\n",
       "      <th>1</th>\n",
       "      <td>49</td>\n",
       "      <td>femme</td>\n",
       "      <td>DNA</td>\n",
       "      <td>160</td>\n",
       "      <td>180</td>\n",
       "      <td>0</td>\n",
       "      <td>Normal</td>\n",
       "      <td>156</td>\n",
       "      <td>Non</td>\n",
       "      <td>1.0</td>\n",
       "      <td>Plat</td>\n",
       "      <td>1</td>\n",
       "    </tr>\n",
       "    <tr>\n",
       "      <th>2</th>\n",
       "      <td>37</td>\n",
       "      <td>homme</td>\n",
       "      <td>AA</td>\n",
       "      <td>130</td>\n",
       "      <td>283</td>\n",
       "      <td>0</td>\n",
       "      <td>ST</td>\n",
       "      <td>98</td>\n",
       "      <td>Non</td>\n",
       "      <td>0.0</td>\n",
       "      <td>Ascendant</td>\n",
       "      <td>0</td>\n",
       "    </tr>\n",
       "    <tr>\n",
       "      <th>3</th>\n",
       "      <td>48</td>\n",
       "      <td>femme</td>\n",
       "      <td>ASY</td>\n",
       "      <td>138</td>\n",
       "      <td>214</td>\n",
       "      <td>0</td>\n",
       "      <td>Normal</td>\n",
       "      <td>108</td>\n",
       "      <td>Oui</td>\n",
       "      <td>1.5</td>\n",
       "      <td>Plat</td>\n",
       "      <td>1</td>\n",
       "    </tr>\n",
       "    <tr>\n",
       "      <th>4</th>\n",
       "      <td>54</td>\n",
       "      <td>homme</td>\n",
       "      <td>DNA</td>\n",
       "      <td>150</td>\n",
       "      <td>195</td>\n",
       "      <td>0</td>\n",
       "      <td>Normal</td>\n",
       "      <td>122</td>\n",
       "      <td>Non</td>\n",
       "      <td>0.0</td>\n",
       "      <td>Ascendant</td>\n",
       "      <td>0</td>\n",
       "    </tr>\n",
       "  </tbody>\n",
       "</table>\n",
       "</div>"
      ],
      "text/plain": [
       "   AGE   SEXE  TDT  PAR  CHOLESTEROL  GAJ     ECG  FCMAX ANGINE  DEPRESSION   \\\n",
       "0   40  homme   AA  140          289    0  Normal    172    Non          0.0   \n",
       "1   49  femme  DNA  160          180    0  Normal    156    Non          1.0   \n",
       "2   37  homme   AA  130          283    0      ST     98    Non          0.0   \n",
       "3   48  femme  ASY  138          214    0  Normal    108    Oui          1.5   \n",
       "4   54  homme  DNA  150          195    0  Normal    122    Non          0.0   \n",
       "\n",
       "       PENTE  CŒUR  \n",
       "0  Ascendant     0  \n",
       "1       Plat     1  \n",
       "2  Ascendant     0  \n",
       "3       Plat     1  \n",
       "4  Ascendant     0  "
      ]
     },
     "execution_count": 48,
     "metadata": {},
     "output_type": "execute_result"
    }
   ],
   "source": [
    "df.head()"
   ]
  },
  {
   "cell_type": "code",
   "execution_count": 49,
   "id": "9dbc0479",
   "metadata": {},
   "outputs": [
    {
     "data": {
      "text/plain": [
       "Plat          460\n",
       "Ascendant     395\n",
       "Descendant     63\n",
       "Name: PENTE, dtype: int64"
      ]
     },
     "execution_count": 49,
     "metadata": {},
     "output_type": "execute_result"
    }
   ],
   "source": [
    "df[\"PENTE\"].value_counts()"
   ]
  },
  {
   "cell_type": "markdown",
   "id": "894d0a9a",
   "metadata": {},
   "source": [
    "### Encodage des variables Qualitatives"
   ]
  },
  {
   "cell_type": "code",
   "execution_count": 50,
   "id": "c3caa29a",
   "metadata": {},
   "outputs": [],
   "source": [
    "#Encodage\n",
    "df['SEXE'] = df['SEXE'].map({\"homme\":1,\"femme\":0})\n",
    "df['TDT'] = df['TDT'].map({'ASY':0,'DNA':1,'AA':2,'AT':3})\n",
    "df['ECG'] = df['ECG'].map({'Normal':0,'LVH':1,'ST':2})\n",
    "df['ANGINE'] = df['ANGINE'].map({'Oui':0,'Non':1})\n",
    "df['PENTE'] = df['PENTE'].map({'Plat':0,'Ascendant':1,'Descendant':2})\n",
    "df.rename({'DEPRESSION ':'DEPRESSION'},inplace=True)"
   ]
  },
  {
   "cell_type": "code",
   "execution_count": 51,
   "id": "3ddb1243",
   "metadata": {},
   "outputs": [
    {
     "data": {
      "text/html": [
       "<div>\n",
       "<style scoped>\n",
       "    .dataframe tbody tr th:only-of-type {\n",
       "        vertical-align: middle;\n",
       "    }\n",
       "\n",
       "    .dataframe tbody tr th {\n",
       "        vertical-align: top;\n",
       "    }\n",
       "\n",
       "    .dataframe thead th {\n",
       "        text-align: right;\n",
       "    }\n",
       "</style>\n",
       "<table border=\"1\" class=\"dataframe\">\n",
       "  <thead>\n",
       "    <tr style=\"text-align: right;\">\n",
       "      <th></th>\n",
       "      <th>AGE</th>\n",
       "      <th>SEXE</th>\n",
       "      <th>TDT</th>\n",
       "      <th>PAR</th>\n",
       "      <th>CHOLESTEROL</th>\n",
       "      <th>GAJ</th>\n",
       "      <th>ECG</th>\n",
       "      <th>FCMAX</th>\n",
       "      <th>ANGINE</th>\n",
       "      <th>DEPRESSION</th>\n",
       "      <th>PENTE</th>\n",
       "      <th>CŒUR</th>\n",
       "    </tr>\n",
       "  </thead>\n",
       "  <tbody>\n",
       "    <tr>\n",
       "      <th>0</th>\n",
       "      <td>40</td>\n",
       "      <td>1</td>\n",
       "      <td>2</td>\n",
       "      <td>140</td>\n",
       "      <td>289</td>\n",
       "      <td>0</td>\n",
       "      <td>0</td>\n",
       "      <td>172</td>\n",
       "      <td>1</td>\n",
       "      <td>0.0</td>\n",
       "      <td>1</td>\n",
       "      <td>0</td>\n",
       "    </tr>\n",
       "    <tr>\n",
       "      <th>1</th>\n",
       "      <td>49</td>\n",
       "      <td>0</td>\n",
       "      <td>1</td>\n",
       "      <td>160</td>\n",
       "      <td>180</td>\n",
       "      <td>0</td>\n",
       "      <td>0</td>\n",
       "      <td>156</td>\n",
       "      <td>1</td>\n",
       "      <td>1.0</td>\n",
       "      <td>0</td>\n",
       "      <td>1</td>\n",
       "    </tr>\n",
       "    <tr>\n",
       "      <th>2</th>\n",
       "      <td>37</td>\n",
       "      <td>1</td>\n",
       "      <td>2</td>\n",
       "      <td>130</td>\n",
       "      <td>283</td>\n",
       "      <td>0</td>\n",
       "      <td>2</td>\n",
       "      <td>98</td>\n",
       "      <td>1</td>\n",
       "      <td>0.0</td>\n",
       "      <td>1</td>\n",
       "      <td>0</td>\n",
       "    </tr>\n",
       "    <tr>\n",
       "      <th>3</th>\n",
       "      <td>48</td>\n",
       "      <td>0</td>\n",
       "      <td>0</td>\n",
       "      <td>138</td>\n",
       "      <td>214</td>\n",
       "      <td>0</td>\n",
       "      <td>0</td>\n",
       "      <td>108</td>\n",
       "      <td>0</td>\n",
       "      <td>1.5</td>\n",
       "      <td>0</td>\n",
       "      <td>1</td>\n",
       "    </tr>\n",
       "    <tr>\n",
       "      <th>4</th>\n",
       "      <td>54</td>\n",
       "      <td>1</td>\n",
       "      <td>1</td>\n",
       "      <td>150</td>\n",
       "      <td>195</td>\n",
       "      <td>0</td>\n",
       "      <td>0</td>\n",
       "      <td>122</td>\n",
       "      <td>1</td>\n",
       "      <td>0.0</td>\n",
       "      <td>1</td>\n",
       "      <td>0</td>\n",
       "    </tr>\n",
       "  </tbody>\n",
       "</table>\n",
       "</div>"
      ],
      "text/plain": [
       "   AGE  SEXE  TDT  PAR  CHOLESTEROL  GAJ  ECG  FCMAX  ANGINE  DEPRESSION   \\\n",
       "0   40     1    2  140          289    0    0    172       1          0.0   \n",
       "1   49     0    1  160          180    0    0    156       1          1.0   \n",
       "2   37     1    2  130          283    0    2     98       1          0.0   \n",
       "3   48     0    0  138          214    0    0    108       0          1.5   \n",
       "4   54     1    1  150          195    0    0    122       1          0.0   \n",
       "\n",
       "   PENTE  CŒUR  \n",
       "0      1     0  \n",
       "1      0     1  \n",
       "2      1     0  \n",
       "3      0     1  \n",
       "4      1     0  "
      ]
     },
     "execution_count": 51,
     "metadata": {},
     "output_type": "execute_result"
    }
   ],
   "source": [
    "df.head()"
   ]
  },
  {
   "cell_type": "markdown",
   "id": "651838ee",
   "metadata": {},
   "source": [
    "### Normalisation des Variables quantitatives"
   ]
  },
  {
   "cell_type": "code",
   "execution_count": 52,
   "id": "0e526c45",
   "metadata": {},
   "outputs": [],
   "source": [
    "quant_cols = ['AGE','PAR','CHOLESTEROL','FCMAX','DEPRESSION ']"
   ]
  },
  {
   "cell_type": "code",
   "execution_count": 53,
   "id": "d810d561",
   "metadata": {},
   "outputs": [],
   "source": [
    "normalizer = StandardScaler()\n",
    "df[quant_cols] = normalizer.fit_transform(df[quant_cols].values)"
   ]
  },
  {
   "cell_type": "code",
   "execution_count": 62,
   "id": "125674f2",
   "metadata": {},
   "outputs": [],
   "source": [
    "y = df['CŒUR']\n",
    "data = df.drop('CŒUR',axis=1)"
   ]
  },
  {
   "cell_type": "code",
   "execution_count": 65,
   "id": "ec4f2ff1",
   "metadata": {},
   "outputs": [],
   "source": [
    "x_train,x_test,y_train,y_test = train_test_split(data,y,test_size=0.2,random_state=10)"
   ]
  },
  {
   "cell_type": "markdown",
   "id": "a8ea0fa6",
   "metadata": {},
   "source": [
    "### Modelisation"
   ]
  },
  {
   "cell_type": "markdown",
   "id": "99c66517",
   "metadata": {},
   "source": [
    "- Modele de Regression Logistique"
   ]
  },
  {
   "cell_type": "code",
   "execution_count": 68,
   "id": "fecbbfea",
   "metadata": {},
   "outputs": [],
   "source": [
    "#Instanciation du modele\n",
    "ml = LogisticRegression()"
   ]
  },
  {
   "cell_type": "code",
   "execution_count": 70,
   "id": "36338350",
   "metadata": {},
   "outputs": [
    {
     "data": {
      "text/plain": [
       "LogisticRegression()"
      ]
     },
     "execution_count": 70,
     "metadata": {},
     "output_type": "execute_result"
    }
   ],
   "source": [
    "#Entrainement du modele\n",
    "ml.fit(x_train,y_train)"
   ]
  },
  {
   "cell_type": "code",
   "execution_count": 72,
   "id": "8e75ed1c",
   "metadata": {},
   "outputs": [
    {
     "data": {
      "text/plain": [
       "0.8678474114441417"
      ]
     },
     "execution_count": 72,
     "metadata": {},
     "output_type": "execute_result"
    }
   ],
   "source": [
    "#Performance du modele sur le jeu de donné d'entrainement\n",
    "train_score = ml.score(x_train,y_train)\n",
    "train_score"
   ]
  },
  {
   "cell_type": "code",
   "execution_count": 74,
   "id": "8e302cb7",
   "metadata": {},
   "outputs": [
    {
     "data": {
      "text/plain": [
       "0.842391304347826"
      ]
     },
     "execution_count": 74,
     "metadata": {},
     "output_type": "execute_result"
    }
   ],
   "source": [
    "#Performance du modele sur le jeu de donnée de test\n",
    "test_score = ml.score(x_test,y_test)\n",
    "test_score"
   ]
  },
  {
   "cell_type": "code",
   "execution_count": 84,
   "id": "46267fb7",
   "metadata": {},
   "outputs": [],
   "source": [
    "#Prediction du model\n",
    "y_pred = ml.predict(x_test)"
   ]
  },
  {
   "cell_type": "code",
   "execution_count": 87,
   "id": "32807e23",
   "metadata": {},
   "outputs": [
    {
     "name": "stdout",
     "output_type": "stream",
     "text": [
      "              precision    recall  f1-score   support\n",
      "\n",
      "           0       0.84      0.81      0.83        86\n",
      "           1       0.84      0.87      0.85        98\n",
      "\n",
      "    accuracy                           0.84       184\n",
      "   macro avg       0.84      0.84      0.84       184\n",
      "weighted avg       0.84      0.84      0.84       184\n",
      "\n"
     ]
    }
   ],
   "source": [
    "#Visualisation du rapport de Classification\n",
    "print(classification_report(y_test, y_pred))"
   ]
  },
  {
   "cell_type": "code",
   "execution_count": null,
   "id": "8ea5c953",
   "metadata": {},
   "outputs": [],
   "source": []
  },
  {
   "cell_type": "markdown",
   "id": "a647ae11",
   "metadata": {},
   "source": [
    " - Modele des KMEANS"
   ]
  },
  {
   "cell_type": "code",
   "execution_count": 93,
   "id": "3f2e6d99",
   "metadata": {},
   "outputs": [
    {
     "name": "stdout",
     "output_type": "stream",
     "text": [
      "1 : TEST_SCORE ==>1.0 | TRAIN_SCORE ==>0.7663043478260869\n",
      "2 : TEST_SCORE ==>0.9046321525885559 | TRAIN_SCORE ==>0.7445652173913043\n",
      "3 : TEST_SCORE ==>0.896457765667575 | TRAIN_SCORE ==>0.8260869565217391\n",
      "4 : TEST_SCORE ==>0.8841961852861036 | TRAIN_SCORE ==>0.8043478260869565\n",
      "5 : TEST_SCORE ==>0.888283378746594 | TRAIN_SCORE ==>0.8152173913043478\n",
      "6 : TEST_SCORE ==>0.8787465940054496 | TRAIN_SCORE ==>0.8369565217391305\n",
      "7 : TEST_SCORE ==>0.8841961852861036 | TRAIN_SCORE ==>0.8369565217391305\n",
      "8 : TEST_SCORE ==>0.8760217983651226 | TRAIN_SCORE ==>0.8369565217391305\n",
      "9 : TEST_SCORE ==>0.8773841961852861 | TRAIN_SCORE ==>0.8315217391304348\n"
     ]
    }
   ],
   "source": [
    "#Recherche du meilleur paramètre pour le modèle de KNeams\n",
    "for i in range(1,10):\n",
    "    kmeans = KNeighborsClassifier(n_neighbors=i)\n",
    "    kmeans.fit(x_train,y_train)\n",
    "    print(f'{i} : TEST_SCORE ==>{kmeans.score(x_train,y_train)} | TRAIN_SCORE ==>{kmeans.score(x_test,y_test)}')"
   ]
  },
  {
   "cell_type": "code",
   "execution_count": null,
   "id": "36010640",
   "metadata": {},
   "outputs": [],
   "source": [
    "km = KNeighborsClassifier(n_neighbors=5)"
   ]
  }
 ],
 "metadata": {
  "kernelspec": {
   "display_name": "Python 3 (ipykernel)",
   "language": "python",
   "name": "python3"
  },
  "language_info": {
   "codemirror_mode": {
    "name": "ipython",
    "version": 3
   },
   "file_extension": ".py",
   "mimetype": "text/x-python",
   "name": "python",
   "nbconvert_exporter": "python",
   "pygments_lexer": "ipython3",
   "version": "3.8.10"
  }
 },
 "nbformat": 4,
 "nbformat_minor": 5
}
